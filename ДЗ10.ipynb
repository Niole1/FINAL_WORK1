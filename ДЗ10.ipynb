{
  "nbformat": 4,
  "nbformat_minor": 0,
  "metadata": {
    "colab": {
      "provenance": [],
      "toc_visible": true,
      "authorship_tag": "ABX9TyNWGMt14w4l96sN8PXyFx/u",
      "include_colab_link": true
    },
    "kernelspec": {
      "name": "python3",
      "display_name": "Python 3"
    },
    "language_info": {
      "name": "python"
    }
  },
  "cells": [
    {
      "cell_type": "markdown",
      "metadata": {
        "id": "view-in-github",
        "colab_type": "text"
      },
      "source": [
        "<a href=\"https://colab.research.google.com/github/Niole1/FINAL_WORK1/blob/main/%D0%94%D0%9710.ipynb\" target=\"_parent\"><img src=\"https://colab.research.google.com/assets/colab-badge.svg\" alt=\"Open In Colab\"/></a>"
      ]
    },
    {
      "cell_type": "markdown",
      "source": [
        "| Задание 44 |\n",
        "| --- |\n",
        "| В ячейке ниже представлен код генерирующий DataFrame, которая состоит всего из 1 столбца. Ваша задача перевести его в one hot вид. Сможете ли вы это сделать без get_dummies?\n",
        "\n",
        "\n",
        "\n",
        "import random\n",
        "lst = ['robot'] * 10\n",
        "lst += ['human'] * 10\n",
        "random.shuffle(lst)\n",
        "data = pd.DataFrame({'whoAmI'lst})\n",
        "data.head() |"
      ],
      "metadata": {
        "id": "9hce4SjDOlpC"
      }
    },
    {
      "cell_type": "code",
      "source": [
        "\n",
        "import pandas as pd \n",
        "import numpy as np \n",
        "import random\n",
        " \n",
        "lst = ['robot'] * 10\n",
        "lst += ['human'] * 10\n",
        "random.shuffle(lst)\n",
        "data = pd.DataFrame({'whoAmI': lst})\n",
        "print(data)\n",
        " \n",
        "#==================================================\n",
        "data['tmp'] = 1\n",
        "data.set_index([data.index, 'whoAmI'], inplace=True)\n",
        "data = data.unstack(level=-1, fill_value = 0).astype(int)\n",
        "data.columns = data.columns.droplevel()\n",
        "data.columns.name = None\n",
        "print(data)"
      ],
      "metadata": {
        "colab": {
          "base_uri": "https://localhost:8080/"
        },
        "id": "YhFgy5HAOtiA",
        "outputId": "dc3c182f-2118-47ed-a2a3-3c1918b41b50"
      },
      "execution_count": null,
      "outputs": [
        {
          "output_type": "stream",
          "name": "stdout",
          "text": [
            "   whoAmI\n",
            "0   robot\n",
            "1   human\n",
            "2   robot\n",
            "3   human\n",
            "4   human\n",
            "5   robot\n",
            "6   robot\n",
            "7   human\n",
            "8   human\n",
            "9   robot\n",
            "10  human\n",
            "11  human\n",
            "12  human\n",
            "13  robot\n",
            "14  robot\n",
            "15  robot\n",
            "16  robot\n",
            "17  human\n",
            "18  human\n",
            "19  robot\n",
            "    human  robot\n",
            "0       0      1\n",
            "1       1      0\n",
            "2       0      1\n",
            "3       1      0\n",
            "4       1      0\n",
            "5       0      1\n",
            "6       0      1\n",
            "7       1      0\n",
            "8       1      0\n",
            "9       0      1\n",
            "10      1      0\n",
            "11      1      0\n",
            "12      1      0\n",
            "13      0      1\n",
            "14      0      1\n",
            "15      0      1\n",
            "16      0      1\n",
            "17      1      0\n",
            "18      1      0\n",
            "19      0      1\n"
          ]
        }
      ]
    }
  ]
}